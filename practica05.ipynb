{
 "cells": [
  {
   "cell_type": "markdown",
   "metadata": {},
   "source": [
    "## Formación en NLP e interpretación de textos + extracción de contenido ##\n",
    "\n",
    "*Introducción*\n",
    "\n",
    "En pocas ocasiones, cuando una empresa recibe una solicitud de presupuesto, éste incluye las\n",
    "referencias de producto exactas. En cambio, los clientes solicitan los presupuestos por ejemplo\n",
    "en un e-mail:\n",
    "Hola, quisiera cuatro cajas de arroz, seis pallets de azúcar [...]\n",
    "\n",
    "*Ejercicio*\n",
    "\n",
    "El sistema a desarrollar consiste en crear un modelo que pueda identificar qué productos se\n",
    "solicitan.\n",
    "Para ello, te proporcionamos el siguiente dataset:\n",
    "https://apioverstand.es/training/dataset_productos.csv\n",
    "\n",
    "Con ellos, genera manualmente varios textos de muestra donde se soliciten varios de estos\n",
    "productos. La idea es que tu sistema traduzca, por ejemplo en el caso anterior:\n",
    "\n",
    "- cien chuletas de cordero paletilla > producto id 7 | 100 unidades\n",
    "\n",
    "- 15Aguardiente de orujo El Afilador 70 cl > producto id 63 15 unidades"
   ]
  },
  {
   "cell_type": "markdown",
   "metadata": {},
   "source": [
    "**PASO 1. Importar librerias**"
   ]
  },
  {
   "cell_type": "code",
   "execution_count": 1,
   "metadata": {},
   "outputs": [],
   "source": [
    "# IMPORTAMOS LIBRERIAS NECESARIAS\n",
    "import pandas as pd\n",
    "# pip install unidecode\n",
    "from unidecode import unidecode\n",
    "\n",
    "from sklearn.feature_extraction.text import CountVectorizer\n",
    "from sklearn.metrics.pairwise import cosine_similarity"
   ]
  },
  {
   "cell_type": "markdown",
   "metadata": {},
   "source": [
    "**PASO 2. Cargar dataset**"
   ]
  },
  {
   "cell_type": "code",
   "execution_count": 2,
   "metadata": {},
   "outputs": [
    {
     "data": {
      "text/html": [
       "<div>\n",
       "<style scoped>\n",
       "    .dataframe tbody tr th:only-of-type {\n",
       "        vertical-align: middle;\n",
       "    }\n",
       "\n",
       "    .dataframe tbody tr th {\n",
       "        vertical-align: top;\n",
       "    }\n",
       "\n",
       "    .dataframe thead th {\n",
       "        text-align: right;\n",
       "    }\n",
       "</style>\n",
       "<table border=\"1\" class=\"dataframe\">\n",
       "  <thead>\n",
       "    <tr style=\"text-align: right;\">\n",
       "      <th></th>\n",
       "      <th>name</th>\n",
       "      <th>ID</th>\n",
       "    </tr>\n",
       "  </thead>\n",
       "  <tbody>\n",
       "    <tr>\n",
       "      <th>0</th>\n",
       "      <td>Bebida láctea sin lactosa de fresa Hacendado</td>\n",
       "      <td>1</td>\n",
       "    </tr>\n",
       "    <tr>\n",
       "      <th>1</th>\n",
       "      <td>Ginebra 15 botanicals Blumara</td>\n",
       "      <td>2</td>\n",
       "    </tr>\n",
       "    <tr>\n",
       "      <th>2</th>\n",
       "      <td>Queso fresco batido desnatado Hacendado 0% mat...</td>\n",
       "      <td>3</td>\n",
       "    </tr>\n",
       "    <tr>\n",
       "      <th>3</th>\n",
       "      <td>Yogur bífidus desnatado con lima y limón Danon...</td>\n",
       "      <td>4</td>\n",
       "    </tr>\n",
       "    <tr>\n",
       "      <th>4</th>\n",
       "      <td>Helado After Dinner Magnum sin gluten 10 ud.</td>\n",
       "      <td>5</td>\n",
       "    </tr>\n",
       "  </tbody>\n",
       "</table>\n",
       "</div>"
      ],
      "text/plain": [
       "                                                name  ID\n",
       "0       Bebida láctea sin lactosa de fresa Hacendado   1\n",
       "1                      Ginebra 15 botanicals Blumara   2\n",
       "2  Queso fresco batido desnatado Hacendado 0% mat...   3\n",
       "3  Yogur bífidus desnatado con lima y limón Danon...   4\n",
       "4       Helado After Dinner Magnum sin gluten 10 ud.   5"
      ]
     },
     "execution_count": 2,
     "metadata": {},
     "output_type": "execute_result"
    }
   ],
   "source": [
    "# Cargar del dataset en un dataframe \n",
    "df_productos = pd.read_csv(\"dataset_productos.csv\")\n",
    "\n",
    "# Mostrar 5 filas del DataFrame para verificar la carga exitosa\n",
    "df_productos.head(5)"
   ]
  },
  {
   "cell_type": "markdown",
   "metadata": {},
   "source": [
    "**PASO 3. Buscar registros nulos o vacios**"
   ]
  },
  {
   "cell_type": "code",
   "execution_count": 3,
   "metadata": {},
   "outputs": [
    {
     "data": {
      "text/html": [
       "<div>\n",
       "<style scoped>\n",
       "    .dataframe tbody tr th:only-of-type {\n",
       "        vertical-align: middle;\n",
       "    }\n",
       "\n",
       "    .dataframe tbody tr th {\n",
       "        vertical-align: top;\n",
       "    }\n",
       "\n",
       "    .dataframe thead th {\n",
       "        text-align: right;\n",
       "    }\n",
       "</style>\n",
       "<table border=\"1\" class=\"dataframe\">\n",
       "  <thead>\n",
       "    <tr style=\"text-align: right;\">\n",
       "      <th></th>\n",
       "      <th>name</th>\n",
       "      <th>ID</th>\n",
       "    </tr>\n",
       "  </thead>\n",
       "  <tbody>\n",
       "    <tr>\n",
       "      <th>29</th>\n",
       "      <td>NaN</td>\n",
       "      <td>30</td>\n",
       "    </tr>\n",
       "  </tbody>\n",
       "</table>\n",
       "</div>"
      ],
      "text/plain": [
       "   name  ID\n",
       "29  NaN  30"
      ]
     },
     "execution_count": 3,
     "metadata": {},
     "output_type": "execute_result"
    }
   ],
   "source": [
    "# Mostrar registros con datos nulos o vacíos\n",
    "df_nulls = df_productos[df_productos.isnull().any(axis=1)]\n",
    "df_nulls"
   ]
  },
  {
   "cell_type": "markdown",
   "metadata": {},
   "source": [
    "**PASO 4. Eliminar registros nulos**\n",
    "\n",
    "Eliminamos cualquier registro que no contenga producto, ya que no tiene sentido tener una ID (en este caso la id30) que no esta asociada a nada."
   ]
  },
  {
   "cell_type": "code",
   "execution_count": 4,
   "metadata": {},
   "outputs": [
    {
     "data": {
      "text/html": [
       "<div>\n",
       "<style scoped>\n",
       "    .dataframe tbody tr th:only-of-type {\n",
       "        vertical-align: middle;\n",
       "    }\n",
       "\n",
       "    .dataframe tbody tr th {\n",
       "        vertical-align: top;\n",
       "    }\n",
       "\n",
       "    .dataframe thead th {\n",
       "        text-align: right;\n",
       "    }\n",
       "</style>\n",
       "<table border=\"1\" class=\"dataframe\">\n",
       "  <thead>\n",
       "    <tr style=\"text-align: right;\">\n",
       "      <th></th>\n",
       "      <th>name</th>\n",
       "      <th>ID</th>\n",
       "    </tr>\n",
       "  </thead>\n",
       "  <tbody>\n",
       "  </tbody>\n",
       "</table>\n",
       "</div>"
      ],
      "text/plain": [
       "Empty DataFrame\n",
       "Columns: [name, ID]\n",
       "Index: []"
      ]
     },
     "execution_count": 4,
     "metadata": {},
     "output_type": "execute_result"
    }
   ],
   "source": [
    "# Eliminamos registros vacios, ya que no tiene sentido manener una ID que no esta asociada a nada\n",
    "# y volvemos a comprobar si existen registros en el df\n",
    "df_productos = df_productos.dropna(subset=['name'])\n",
    "df_nulls = df_productos[df_productos.isnull().any(axis=1)]\n",
    "df_nulls"
   ]
  },
  {
   "cell_type": "markdown",
   "metadata": {},
   "source": [
    "**PASO 5. Buscar registros duplicados**"
   ]
  },
  {
   "cell_type": "code",
   "execution_count": 5,
   "metadata": {},
   "outputs": [
    {
     "data": {
      "text/html": [
       "<div>\n",
       "<style scoped>\n",
       "    .dataframe tbody tr th:only-of-type {\n",
       "        vertical-align: middle;\n",
       "    }\n",
       "\n",
       "    .dataframe tbody tr th {\n",
       "        vertical-align: top;\n",
       "    }\n",
       "\n",
       "    .dataframe thead th {\n",
       "        text-align: right;\n",
       "    }\n",
       "</style>\n",
       "<table border=\"1\" class=\"dataframe\">\n",
       "  <thead>\n",
       "    <tr style=\"text-align: right;\">\n",
       "      <th></th>\n",
       "      <th>name</th>\n",
       "      <th>ID</th>\n",
       "    </tr>\n",
       "  </thead>\n",
       "  <tbody>\n",
       "  </tbody>\n",
       "</table>\n",
       "</div>"
      ],
      "text/plain": [
       "Empty DataFrame\n",
       "Columns: [name, ID]\n",
       "Index: []"
      ]
     },
     "execution_count": 5,
     "metadata": {},
     "output_type": "execute_result"
    }
   ],
   "source": [
    "# Buscaremos registros duplicados\n",
    "df_duplicates = df_productos[df_productos.duplicated(['name', 'ID'], keep=False)]\n",
    "df_duplicates"
   ]
  },
  {
   "cell_type": "markdown",
   "metadata": {},
   "source": [
    "**PASO 6. Eliminar todas las tildes de los productos**\n",
    "\n",
    "Eliminamos todas las tildes de los productos para facilitar la busqueda, ya que, la mayoria de usuarios cuando escriben suelen hacerlo sin tilde. Aun asi, de la forma que esta realizado el codigo, con tilde o sin tilde, el codigo identifica correctamente el producto."
   ]
  },
  {
   "cell_type": "code",
   "execution_count": 6,
   "metadata": {},
   "outputs": [
    {
     "data": {
      "text/html": [
       "<div>\n",
       "<style scoped>\n",
       "    .dataframe tbody tr th:only-of-type {\n",
       "        vertical-align: middle;\n",
       "    }\n",
       "\n",
       "    .dataframe tbody tr th {\n",
       "        vertical-align: top;\n",
       "    }\n",
       "\n",
       "    .dataframe thead th {\n",
       "        text-align: right;\n",
       "    }\n",
       "</style>\n",
       "<table border=\"1\" class=\"dataframe\">\n",
       "  <thead>\n",
       "    <tr style=\"text-align: right;\">\n",
       "      <th></th>\n",
       "      <th>name</th>\n",
       "      <th>ID</th>\n",
       "    </tr>\n",
       "  </thead>\n",
       "  <tbody>\n",
       "    <tr>\n",
       "      <th>0</th>\n",
       "      <td>Bebida lactea sin lactosa de fresa Hacendado</td>\n",
       "      <td>1</td>\n",
       "    </tr>\n",
       "    <tr>\n",
       "      <th>1</th>\n",
       "      <td>Ginebra 15 botanicals Blumara</td>\n",
       "      <td>2</td>\n",
       "    </tr>\n",
       "    <tr>\n",
       "      <th>2</th>\n",
       "      <td>Queso fresco batido desnatado Hacendado 0% mat...</td>\n",
       "      <td>3</td>\n",
       "    </tr>\n",
       "    <tr>\n",
       "      <th>3</th>\n",
       "      <td>Yogur bifidus desnatado con lima y limon Danon...</td>\n",
       "      <td>4</td>\n",
       "    </tr>\n",
       "    <tr>\n",
       "      <th>4</th>\n",
       "      <td>Helado After Dinner Magnum sin gluten 10 ud.</td>\n",
       "      <td>5</td>\n",
       "    </tr>\n",
       "  </tbody>\n",
       "</table>\n",
       "</div>"
      ],
      "text/plain": [
       "                                                name  ID\n",
       "0       Bebida lactea sin lactosa de fresa Hacendado   1\n",
       "1                      Ginebra 15 botanicals Blumara   2\n",
       "2  Queso fresco batido desnatado Hacendado 0% mat...   3\n",
       "3  Yogur bifidus desnatado con lima y limon Danon...   4\n",
       "4       Helado After Dinner Magnum sin gluten 10 ud.   5"
      ]
     },
     "execution_count": 6,
     "metadata": {},
     "output_type": "execute_result"
    }
   ],
   "source": [
    "# Para evitar posteriores confusiones, eliminaremos todas las tildes de todos los productos\n",
    "df_productos['name'] = df_productos['name'].apply(lambda x: unidecode(str(x)))\n",
    "df_productos.reset_index(drop=True, inplace=True)\n",
    "df_productos.head(5)"
   ]
  },
  {
   "cell_type": "markdown",
   "metadata": {},
   "source": [
    "**PASO 7. Obtencion de la *similitud del coseno* entre una frase y un registro determinado**\n",
    "\n",
    "La busqueda del producto la haremos comparando el texto que el usuario escribe con el texto contenido en todos los registros. La comparacion no la haremos letra por letra sino que aplicaremos la similitud del coseno a la frase escrita por el usuario con respecto a todos y cada uno de los productos. De esta forma, obtendremos el producto que mayor porcentaje de similitud tenga. Esto permite que aunque el usuario cometa alguna falta de ortografia, o incluso, omita palabras, el buscador seguira identificando el producto correctamente.\n",
    "Para ello utilizaremos funciones como las que siguen."
   ]
  },
  {
   "cell_type": "code",
   "execution_count": 7,
   "metadata": {},
   "outputs": [
    {
     "data": {
      "text/plain": [
       "85.7142857142857"
      ]
     },
     "execution_count": 7,
     "metadata": {},
     "output_type": "execute_result"
    }
   ],
   "source": [
    "# FUNCION QUE DEVUELVE EL PORCENTAJE DE SIMILITUD ENTRE UNA FRASE Y UN REGISTRO DETERMINADO\n",
    "def porcentaje_similitud_registro(indice_registro, frase):\n",
    "    descripcion_producto = df_productos.loc[indice_registro, 'name']\n",
    "    vectorizer = CountVectorizer()\n",
    "    matriz_conteo = vectorizer.fit_transform([frase, descripcion_producto])\n",
    "    similitud = cosine_similarity(matriz_conteo[0], matriz_conteo[1])[0, 0]    \n",
    "    return similitud * 100\n",
    "\n",
    "frase_de_ejemplo = porcentaje_similitud_registro(0,'Bebida láctea sin lactosa de fresa Hacendado') \n",
    "frase_de_ejemplo"
   ]
  },
  {
   "cell_type": "markdown",
   "metadata": {},
   "source": [
    "**PASO 8. Localizacion del producto y su correspondiente ID**\n",
    "\n",
    "En esta funcion, y valiendonos de la funcion anterior, haremos la comparacion entre la frase escrita por el usuario y todos y cada uno de los productos del dataset. Aquel que mayor porcentaje de similitud ofrezca, sera el articulo seleccionado."
   ]
  },
  {
   "cell_type": "code",
   "execution_count": 8,
   "metadata": {},
   "outputs": [
    {
     "name": "stdout",
     "output_type": "stream",
     "text": [
      "Pedido: setenta y ochoBebida de arroz con almendras ecológica Isola Bio sin gluten brik 250 ml\n",
      "Articulo: Bebida de arroz con almendras ecologica Isola Bio sin gluten brik 250 ml.\n",
      "ID del articulo: 1686\n",
      "Similitud: 81.54 %\n"
     ]
    }
   ],
   "source": [
    "# FUNCION QUE NOS DEVUELVE EL REG. MAS PARECIDO, SU ID, Y EL PORCENTAJE DE SIMILITUD\n",
    "# DE UNA FRASE ENVIADA COMO PARAMETRO\n",
    "def registro_mas_similar(frase):\n",
    "    porcentaje_similitud_mas_alto = 0\n",
    "    registro_mas_similar = None\n",
    "    id_mas_similar = None\n",
    "\n",
    "    for indice_registro in range(len(df_productos)):\n",
    "        porcentaje_similitud = porcentaje_similitud_registro(indice_registro, frase)\n",
    "\n",
    "        if porcentaje_similitud > porcentaje_similitud_mas_alto:\n",
    "            porcentaje_similitud_mas_alto = round(porcentaje_similitud,2)\n",
    "            registro_mas_similar = indice_registro\n",
    "            id_mas_similar = df_productos.loc[indice_registro, 'ID']\n",
    "\n",
    "    return registro_mas_similar, id_mas_similar, porcentaje_similitud_mas_alto\n",
    "\n",
    "# FRASES DE EJEMPLO\n",
    "# frase = \"cien chuletas de cordero paletilla\"\n",
    "frase = \"setenta y ochoBebida de arroz con almendras ecológica Isola Bio sin gluten brik 250 ml\"\n",
    "\n",
    "frase_de_ejemplo = frase\n",
    "registro, id_registro, porcentaje = registro_mas_similar(frase)\n",
    "articulo = df_productos.iloc[registro][0]\n",
    "\n",
    "print('Pedido:', frase)\n",
    "print('Articulo:', articulo)\n",
    "print('ID del articulo:', id_registro)\n",
    "print('Similitud:', porcentaje, '%')"
   ]
  },
  {
   "cell_type": "markdown",
   "metadata": {},
   "source": [
    "**PASO 9. Obtencion de la cantidad**\n",
    "\n",
    "Para determinar la cantidad, deducimos que siempre se antepone al producto, ya sea con texto o con numero. Por tanto, extraemos el texto escrito por el usuario que no coincide con el producto. Ese texto extra se deduce que es la cantidad o alguna peticion sobre el producto. Lo haremos comparando la frase del usuario con el articulo. Aquel texto que no se encuentre en el articulo pero si en la frase del usuario, sera texto extra que contendra muy probablemente la cantidad solicitada."
   ]
  },
  {
   "cell_type": "code",
   "execution_count": 9,
   "metadata": {},
   "outputs": [
    {
     "name": "stdout",
     "output_type": "stream",
     "text": [
      "Frase original: setenta y ochoBebida de arroz con almendras ecológica Isola Bio sin gluten brik 250 ml\n",
      "Articulo: Bebida de arroz con almendras ecologica Isola Bio sin gluten brik 250 ml.\n",
      "Texto extra: setenta y ocho\n"
     ]
    }
   ],
   "source": [
    "def obtener_texto_extra(articulo, frase):\n",
    "    # Eliminar el punto si es el último caracter de la cadena\n",
    "    if articulo.endswith('.'):\n",
    "        articulo = articulo[:-1]             \n",
    "\n",
    "    # Calcular la longitud del texto extra\n",
    "    diferencia_longitud = len(frase) - len(articulo)\n",
    "    texto_extra = frase[:diferencia_longitud]\n",
    "\n",
    "    return texto_extra\n",
    "\n",
    "texto_extra = obtener_texto_extra(articulo, frase)\n",
    "print('Frase original:', frase)\n",
    "print('Articulo:', articulo)\n",
    "print('Texto extra:', texto_extra)"
   ]
  },
  {
   "cell_type": "markdown",
   "metadata": {},
   "source": [
    "**PASO 10. Conversion de la cantidad de formato texto a formato numerico**\n",
    "\n",
    "En algunos casos, hay usuarios que en lugar de escribir la cantidad en numero lo hacen en letra. Por tanto, haremos un codigo que, en caso de que el usuario indique la cantidad con texto, sea capaz de convertir ese texto a su equivalente numerico. Para ello usaremos un codigo, con un diccionario, que aunque no tiene explícitamente todas las palabras numéricas, está diseñado para analizar ciertos patrones comunes en el lenguaje y convertirlos en sus equivalentes numéricos."
   ]
  },
  {
   "cell_type": "code",
   "execution_count": 10,
   "metadata": {},
   "outputs": [
    {
     "name": "stdout",
     "output_type": "stream",
     "text": [
      "Texto de prueba: trescientos cuarenta y nueve\n",
      "Número: 349\n"
     ]
    }
   ],
   "source": [
    "def convertir_numero_texto_a_numero(texto):\n",
    "    numeros_texto = {\n",
    "        'cero': 0, 'un': 1, 'una': 1, 'uno': 1, 'dos': 2, 'tres': 3, 'cuatro': 4,\n",
    "        'cinco': 5, 'seis': 6, 'siete': 7, 'ocho': 8, 'nueve': 9, 'diez': 10,\n",
    "        'once': 11, 'doce': 12, 'trece': 13, 'catorce': 14, 'quince': 15,\n",
    "        'dieciseis': 16, 'diecisiete': 17, 'dieciocho': 18, 'diecinueve': 19,\n",
    "        'veinte': 20, 'veintiuno': 21, 'veintidos': 22, 'veintitres': 23,\n",
    "        'veinticuatro': 24, 'veinticinco': 25, 'veintiseis': 26, 'veintisiete': 27,\n",
    "        'veintiocho': 28, 'veintinueve': 29, 'treinta': 30, 'cuarenta': 40,\n",
    "        'cincuenta': 50, 'sesenta': 60, 'setenta': 70, 'ochenta': 80, 'noventa': 90,\n",
    "        'cien': 100, 'ciento': 100, 'ciento uno': 101, 'doscientos': 200,\n",
    "        'trescientos': 300, 'cuatrocientos': 400, 'quinientos': 500,\n",
    "        'seiscientos': 600, 'setecientos': 700, 'ochocientos': 800,\n",
    "        'novecientos': 900, 'mil': 1000, 'millon': 1000000, 'millones': 1000000,\n",
    "    }\n",
    "\n",
    "    # Dividir el texto en palabras\n",
    "    palabras = texto.lower().split()\n",
    "    numero = 0\n",
    "    i = 0\n",
    "\n",
    "    # Procesar cada palabra\n",
    "    while i < len(palabras):\n",
    "        palabra_actual = palabras[i]\n",
    "\n",
    "        # Revisar si la palabra actual está en el diccionario de números en texto\n",
    "        if palabra_actual in numeros_texto:\n",
    "            numero += numeros_texto[palabra_actual]\n",
    "            i += 1\n",
    "        else:\n",
    "            i += 1\n",
    "\n",
    "    return numero if numero > 0 else None  # Devolver el número, si es posible\n",
    "\n",
    "# ESCRIBA CUALQUIER NUMERO CON LETRAS PARA PROBAR LA FUNCION\n",
    "texto_numero = \"trescientos cuarenta y nueve\"\n",
    "numero = convertir_numero_texto_a_numero(texto_numero)\n",
    "print(f\"Texto de prueba: {texto_numero}\\nNúmero: {numero}\")"
   ]
  },
  {
   "cell_type": "markdown",
   "metadata": {},
   "source": [
    "**PASO 11. Obtencion de la cantidad final**\n",
    "\n",
    "Una vez ya tenemos el articulo localizado y el texto extra donde viene la cantidad. Analizamos dicho texto extra, que no pertenece al articulo y, usando las dos funciones anteriores extraemos la cantidad de forma numerica. Si el usuario ya la escribio de forma numerica hace la conversion directamente, pero si lo hizo en forma de texto, usara la funcion del paso anterior *convertir_numero_texto_a_numero*\n",
    "\n",
    "El resultado final sera una variable con la cantidad solicitada en formato numero entero."
   ]
  },
  {
   "cell_type": "code",
   "execution_count": 11,
   "metadata": {},
   "outputs": [
    {
     "name": "stdout",
     "output_type": "stream",
     "text": [
      "Cantidad: 215\n"
     ]
    }
   ],
   "source": [
    "def obtener_cantidad(texto_extra):\n",
    "    try:\n",
    "        cantidad = int(texto_extra)\n",
    "    except ValueError:\n",
    "        cantidad = convertir_numero_texto_a_numero(texto_extra)\n",
    "    return cantidad\n",
    "\n",
    "# Ejemplo de uso\n",
    "texto_extra = \"doscientos quince\"\n",
    "cantidad = obtener_cantidad(texto_extra)\n",
    "print(f\"Cantidad: {cantidad}\")"
   ]
  },
  {
   "cell_type": "markdown",
   "metadata": {},
   "source": [
    "**COMPROBACION DEL RESULTADO FINAL**\n",
    "\n",
    "Una vez tenemos los datos identificados, tanto el articulo, como la cantidad numerica, podemos mostrar el resultado final.\n",
    "\n",
    "Habilite cualquiera de los siguientes ejemplos y compruebe el resultado."
   ]
  },
  {
   "cell_type": "code",
   "execution_count": 12,
   "metadata": {},
   "outputs": [
    {
     "name": "stdout",
     "output_type": "stream",
     "text": [
      "Pedido: cien chuletas de cordero\n",
      "\n",
      "Articulo: Chuletas de cordero paletilla\n",
      "ID: 7\n",
      "Cantidad: 100 unidades.\n",
      "[Similitud: 75.0 %]\n"
     ]
    }
   ],
   "source": [
    "# pedido_del_cliente = '15Aguardiente de orujo El Afilador 70 cl'\n",
    "pedido_del_cliente = 'cien chuletas de cordero'\n",
    "# pedido_del_cliente = 'ciento veinte uva negra sin semillas'\n",
    "# pedido_del_cliente = 'cienchuletas de cordero paletilla'\n",
    "# pedido_del_cliente = 'diez ISABEL mejillones en salsa vieira'\n",
    "# pedido_del_cliente = '25 Horchata de chufa chufi original botella 1l'\n",
    "# pedido_del_cliente = 'diecisiete mayonesa hacendado'\n",
    "\n",
    "frase = pedido_del_cliente\n",
    "registro, id_registro, porcentaje = registro_mas_similar(frase)\n",
    "articulo = df_productos.iloc[registro][0]\n",
    "texto_extra = obtener_texto_extra(articulo, frase)\n",
    "cantidad = obtener_cantidad(texto_extra)\n",
    "\n",
    "print('Pedido:', frase)\n",
    "print(\"\")\n",
    "print('Articulo:', articulo)\n",
    "print('ID:', id_registro)\n",
    "print('Cantidad:', cantidad, 'unidades.')\n",
    "print('[Similitud:', porcentaje, '%]')"
   ]
  }
 ],
 "metadata": {
  "kernelspec": {
   "display_name": "Python 3",
   "language": "python",
   "name": "python3"
  },
  "language_info": {
   "codemirror_mode": {
    "name": "ipython",
    "version": 3
   },
   "file_extension": ".py",
   "mimetype": "text/x-python",
   "name": "python",
   "nbconvert_exporter": "python",
   "pygments_lexer": "ipython3",
   "version": "3.11.4"
  }
 },
 "nbformat": 4,
 "nbformat_minor": 2
}
